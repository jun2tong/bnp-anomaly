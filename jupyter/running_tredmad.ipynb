{
 "cells": [
  {
   "cell_type": "markdown",
   "metadata": {},
   "source": [
    "# Running TREDMAD\n"
   ]
  },
  {
   "cell_type": "markdown",
   "metadata": {},
   "source": [
    "Instructions for installing and running of TREDMAD are as follows.\n",
    "\n",
    "This is a little involved, more hacking and less pedestrian computer user.  Get in touch if you need assistance. \n",
    "\n",
    "Assuming a Ubuntu 18.04 installation.\n",
    "\n",
    "Assuming you have cloned this repo https://github.com/jun2tong/bnp-anomaly.git\n",
    "\n",
    "You need a python 3 venv running.  The best instructions for that are here https://www.tensorflow.org/install/pip\n",
    "\n",
    "Activate your python 3 venv\n",
    "\n",
    "Change dir to:\n",
    "\n",
    "/your-path/bnp-anomaly\n",
    "\n",
    "In that directory run:\n",
    "\n",
    "pip install -e .\n",
    "\n",
    "This will install the bnpy code we have packaged in our repo into your venv\n",
    "\n",
    "You will have problems - you need to pip install things like cython.  \n",
    "\n",
    "The requirements.txt file located in the directory beside this jupyter file has all the packages and version numbers of a working TREDMAD\n",
    "installation.  You won't need to install everything - install only the things you get errors/warnings/complaints about when you run the\n",
    "\"pip install -e .\"\n",
    "\n",
    "For instance, running \"pip install -e .\" the first time will give you an error about cython.  Referring to requirements.txt note\n",
    "that a working TREDMAD installation has Cython==0.29.20, and issues the following command:\n",
    "\n",
    "pip install cython==0.29.20\n",
    "\n",
    "Getting through this part is a little tricky... it changes week to week as the pypi repo evolves... we find randomly \n",
    "smashing the keyboard helps.  Again if you are this far, and stuck, get in touch.\n",
    "\n",
    "Once you've succesfully installed using \"pip install -e .\"\n",
    "\n",
    "Try running \n",
    "\n",
    "~/git/bnp-anomaly$ python src/TREDMAD.py \n",
    "\n",
    "You will again get errors like \"hey you don't have xxyy installed\"\n",
    "\n",
    "Use pip to install those missing packages. Again the requirements.txt has every required package so look there for version numbers. \n",
    "\n",
    "Try running the code. \n",
    "\n",
    "~/git/bnp-anomaly$ python src/TREDMAD.py \n",
    "\n",
    "Again... rinse and repeat until the code runs\n",
    "\n",
    "By default the code runs SMOVB with Cohesion Mark II again an industrial data file bnp-anomaly/data/test/ds00.csv\n",
    "\n",
    "The comments in the code will help you run it against other files.  If you are interested in a detailed walk through, get in touch\n",
    "we can set something up.  We have a multiprocessor version that works well, which we can provide if interested. \n",
    "\n",
    "When the run is complete you will get output bnp-anomaly/data/test_output/ds00.test_alg-0_bs-5_wsib-5.csv\n",
    "\n",
    "This csv is ready for reading into a dataframe with pandas... and from there the real fun begins. \n",
    "\n",
    "Thanks Nick and Jun. "
   ]
  },
  {
   "cell_type": "code",
   "execution_count": null,
   "metadata": {},
   "outputs": [],
   "source": []
  }
 ],
 "metadata": {
  "kernelspec": {
   "display_name": "Python 3",
   "language": "python",
   "name": "python3"
  },
  "language_info": {
   "codemirror_mode": {
    "name": "ipython",
    "version": 3
   },
   "file_extension": ".py",
   "mimetype": "text/x-python",
   "name": "python",
   "nbconvert_exporter": "python",
   "pygments_lexer": "ipython3",
   "version": "3.8.2"
  }
 },
 "nbformat": 4,
 "nbformat_minor": 4
}
